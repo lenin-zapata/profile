{
 "cells": [
  {
   "cell_type": "markdown",
   "metadata": {},
   "source": [
    "# 🧪 Ejemplo de Flujo de Trabajo de Ingeniería de Datos\n",
    "\n",
    "Este notebook demuestra un flujo básico de ingeniería de datos: carga, limpieza, transformación y visualización de datos."
   ]
  },
  {
   "cell_type": "code",
   "execution_count": null,
   "metadata": {},
   "outputs": [],
   "source": [
    "# 📥 Carga de datos desde un archivo CSV\n",
    "import pandas as pd\n",
    "\n",
    "# Reemplaza 'datos.csv' con el nombre de tu archivo\n",
    "df = pd.read_csv('datos.csv')\n",
    "df.head()"
   ]
  },
  {
   "cell_type": "markdown",
   "metadata": {},
   "source": [
    "## 🧹 Limpieza de datos\n",
    "- Revisión de valores nulos\n",
    "- Conversión de tipos de datos"
   ]
  },
  {
   "cell_type": "code",
   "execution_count": null,
   "metadata": {},
   "outputs": [],
   "source": [
    "# Verificar valores nulos\n",
    "df.isnull().sum()"
   ]
  },
  {
   "cell_type": "code",
   "execution_count": null,
   "metadata": {},
   "outputs": [],
   "source": [
    "# Eliminar filas con valores nulos\n",
    "df_clean = df.dropna()\n",
    "df_clean.info()"
   ]
  },
  {
   "cell_type": "markdown",
   "metadata": {},
   "source": [
    "## 🔄 Transformación de datos\n",
    "- Crear nuevas columnas\n",
    "- Aplicar filtros"
   ]
  },
  {
   "cell_type": "code",
   "execution_count": null,
   "metadata": {},
   "outputs": [],
   "source": [
    "# Crear una nueva columna de ejemplo\n",
    "df_clean['nueva_columna'] = df_clean.select_dtypes(include='number').sum(axis=1)\n",
    "df_clean.head()"
   ]
  },
  {
   "cell_type": "code",
   "execution_count": null,
   "metadata": {},
   "outputs": [],
   "source": [
    "# Filtrar datos (ejemplo: valores mayores a cierto umbral)\n",
    "df_filtrado = df_clean[df_clean['nueva_columna'] > 100]\n",
    "df_filtrado.head()"
   ]
  },
  {
   "cell_type": "markdown",
   "metadata": {},
   "source": [
    "## 📊 Visualización de datos\n",
    "- Histogramas\n",
    "- Gráficos de dispersión"
   ]
  },
  {
   "cell_type": "code",
   "execution_count": null,
   "metadata": {},
   "outputs": [],
   "source": [
    "import matplotlib.pyplot as plt\n",
    "import seaborn as sns\n",
    "\n",
    "# Histograma\n",
    "plt.figure(figsize=(8, 4))\n",
    "sns.histplot(df_clean['nueva_columna'], bins=20, kde=True)\n",
    "plt.title('Distribución de nueva_columna')\n",
    "plt.show()"
   ]
  },
  {
   "cell_type": "code",
   "execution_count": null,
   "metadata": {},
   "outputs": [],
   "source": [
    "# Gráfico de dispersión entre dos columnas numéricas\n",
    "plt.figure(figsize=(8, 4))\n",
    "sns.scatterplot(data=df_clean, x=df_clean.select_dtypes(include='number').columns[0], y='nueva_columna')\n",
    "plt.title('Relación entre columnas numéricas')\n",
    "plt.show()"
   ]
  }
 ],
 "metadata": {
  "kernelspec": {
   "display_name": "Python 3",
   "language": "python",
   "name": "python3"
  },
  "language_info": {
   "name": "python",
   "version": "3.8"
  }
 },
 "nbformat": 4,
 "nbformat_minor": 5
}
